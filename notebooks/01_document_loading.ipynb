{
 "cells": [
  {
   "cell_type": "markdown",
   "id": "e17aaafb-a45c-4bfc-886c-b68e86848810",
   "metadata": {},
   "source": [
    "## Experiment with document loaders"
   ]
  },
  {
   "cell_type": "code",
   "execution_count": 1,
   "id": "e6db36a7-0dab-4ec1-9277-8c02a2cc72c7",
   "metadata": {},
   "outputs": [],
   "source": [
    "from dotenv import load_dotenv, find_dotenv"
   ]
  },
  {
   "cell_type": "code",
   "execution_count": 2,
   "id": "f0b2b11b-b26a-4a80-ad00-6bcfdcfd38a0",
   "metadata": {},
   "outputs": [],
   "source": [
    "_ = load_dotenv(find_dotenv())"
   ]
  },
  {
   "cell_type": "markdown",
   "id": "857ef4f0-f63e-4f0f-bc02-d597d1d5087a",
   "metadata": {},
   "source": [
    "### PDF Loaders"
   ]
  },
  {
   "cell_type": "code",
   "execution_count": 3,
   "id": "56bf20f8-a8b1-41bf-b525-1f27d0d46f82",
   "metadata": {},
   "outputs": [],
   "source": [
    "from langchain.document_loaders import PyPDFLoader"
   ]
  },
  {
   "cell_type": "code",
   "execution_count": 4,
   "id": "a4784454-30bd-4201-8923-b0f38e24462a",
   "metadata": {},
   "outputs": [],
   "source": [
    "loader = PyPDFLoader(\"../data/Glasnik-638.pdf\")"
   ]
  },
  {
   "cell_type": "code",
   "execution_count": 5,
   "id": "425818e9-05a9-4d0e-b0ca-ca459de4eb78",
   "metadata": {},
   "outputs": [],
   "source": [
    "pages = loader.load()"
   ]
  },
  {
   "cell_type": "code",
   "execution_count": 6,
   "id": "b02b5737-1a29-4ee7-a3ef-1924cc5a5e81",
   "metadata": {},
   "outputs": [
    {
     "data": {
      "text/plain": [
       "15"
      ]
     },
     "execution_count": 6,
     "metadata": {},
     "output_type": "execute_result"
    }
   ],
   "source": [
    "len(pages)"
   ]
  },
  {
   "cell_type": "code",
   "execution_count": 7,
   "id": "2979b382-3eeb-4792-bc83-20f7b62b2684",
   "metadata": {},
   "outputs": [],
   "source": [
    "page = pages[0]"
   ]
  },
  {
   "cell_type": "code",
   "execution_count": 8,
   "id": "179994a9-32a8-4065-b464-92a52d79186a",
   "metadata": {},
   "outputs": [
    {
     "data": {
      "text/plain": [
       "Document(metadata={'source': '../data/Glasnik-638.pdf', 'page': 0}, page_content=' \\n  \\nUniverzitetski glasnik  Br.  638, 30 декември 2022  \\n \\n1 \\n   \\n \\n \\n \\n \\n \\n \\n \\n \\n \\n \\n \\n \\n \\n \\n  \\nUniverzitetski glasnik  \\n \\n \\nИздавач  \\nУниверзитет  „Св. Кирил  и \\nМетодиј“  - Скопје  \\n \\n \\n \\n \\n \\n \\n \\n \\n \\nУредник  \\nна издавачката  дејност  на \\nУКИМ  \\nпроф . д-р Никола  Јанкуловски , \\nректор  \\n \\n \\nУредник  \\nна Универзитетски  гласник  \\nм-р Марија  Маневска , \\nгенерален  секретар  \\n \\nЛектор  \\nВесна Илиевска Цветановска  \\n \\nТехничко  уредување  \\nЗоран  Кордоски  \\nм-р Елизабета Додевска  \\n  \\n \\n \\n \\n \\n \\n \\n \\n \\n \\n \\n \\n \\n \\n \\n \\n \\n \\n \\n \\n \\nО Д Л У КА  \\nЗА ПРАВИЛА НА СТУДИРАЊЕ  \\nна втор циклус студии (постдипломски  \\nстудии)  на Универзитетот „Св. Кирил и \\nМетодиј“ во Скопје , Економски и нститут  – \\nСкопје  \\n ')"
      ]
     },
     "execution_count": 8,
     "metadata": {},
     "output_type": "execute_result"
    }
   ],
   "source": [
    "page"
   ]
  },
  {
   "cell_type": "code",
   "execution_count": 9,
   "id": "95850049-846e-41a3-a90c-88183d6b395c",
   "metadata": {},
   "outputs": [
    {
     "name": "stdout",
     "output_type": "stream",
     "text": [
      " \n",
      "  \n",
      "Univerzitetski glasnik  Br.  638, 30 декември 2022  \n",
      " \n",
      "1 \n",
      "   \n",
      " \n",
      " \n",
      " \n",
      " \n",
      " \n",
      " \n",
      " \n",
      " \n",
      " \n",
      " \n",
      " \n",
      " \n",
      " \n",
      " \n",
      "  \n",
      "Univerzitetski glasnik  \n",
      " \n",
      " \n",
      "Издавач  \n",
      "Универзитет  „Св. Кирил  и \n",
      "Методиј“  - Скопје  \n",
      " \n",
      " \n",
      " \n",
      " \n",
      " \n",
      " \n",
      " \n",
      " \n",
      " \n",
      "Уредник  \n",
      "на издавачката  дејност  на \n",
      "УКИМ  \n",
      "проф . д-р Никола  Јанкуловски , \n",
      "ректор  \n",
      " \n",
      " \n",
      "Уредник  \n",
      "на Универзитетски  гласник  \n",
      "м-р Марија  Маневска , \n",
      "генерален  секретар  \n",
      " \n",
      "Лектор  \n",
      "Весна Илиевска Цветановска  \n",
      " \n",
      "Техничко  уредување  \n",
      "Зоран  Кордоски  \n",
      "м-р Елизабета Додевска  \n",
      "  \n",
      " \n",
      " \n",
      " \n",
      " \n",
      "\n"
     ]
    }
   ],
   "source": [
    "print(page.page_content[:500])"
   ]
  },
  {
   "cell_type": "code",
   "execution_count": 10,
   "id": "7ce30aff-8d3a-453f-9374-8765528298d6",
   "metadata": {},
   "outputs": [
    {
     "data": {
      "text/plain": [
       "{'source': '../data/Glasnik-638.pdf', 'page': 0}"
      ]
     },
     "execution_count": 10,
     "metadata": {},
     "output_type": "execute_result"
    }
   ],
   "source": [
    "page.metadata"
   ]
  },
  {
   "cell_type": "markdown",
   "id": "ccefba65-1080-400c-b7fd-313338641676",
   "metadata": {},
   "source": [
    "### Web loaders"
   ]
  },
  {
   "cell_type": "code",
   "execution_count": 11,
   "id": "e6df38e4-2616-424b-b641-c4f8411748fb",
   "metadata": {},
   "outputs": [
    {
     "name": "stderr",
     "output_type": "stream",
     "text": [
      "USER_AGENT environment variable not set, consider setting it to identify your requests.\n"
     ]
    }
   ],
   "source": [
    "from langchain.document_loaders import WebBaseLoader"
   ]
  },
  {
   "cell_type": "code",
   "execution_count": 12,
   "id": "c7978d92-203b-4291-afcd-5590e95a24cc",
   "metadata": {},
   "outputs": [],
   "source": [
    "loader_web = WebBaseLoader(\"https://mk.wikipedia.org/wiki/%D0%95%D0%BA%D0%BE%D0%BD%D0%BE%D0%BC%D0%B8%D1%98%D0%B0_%D0%BD%D0%B0_%D0%9C%D0%B0%D0%BA%D0%B5%D0%B4%D0%BE%D0%BD%D0%B8%D1%98%D0%B0\")"
   ]
  },
  {
   "cell_type": "code",
   "execution_count": 13,
   "id": "50aa39d4-3404-4d88-960f-6d8e6d741289",
   "metadata": {},
   "outputs": [],
   "source": [
    "documents = loader_web.load()"
   ]
  },
  {
   "cell_type": "code",
   "execution_count": 14,
   "id": "8f4fffeb-a5bb-49df-a9ce-8a3d5f006467",
   "metadata": {},
   "outputs": [
    {
     "name": "stdout",
     "output_type": "stream",
     "text": [
      "\n",
      "\n",
      "\n",
      "\n",
      "Економија на Македонија — Википедија\n",
      "\n",
      "\n",
      "\n",
      "\n",
      "\n",
      "\n",
      "\n",
      "\n",
      "\n",
      "\n",
      "\n",
      "\n",
      "\n",
      "\n",
      "\n",
      "\n",
      "\n",
      "\n",
      "\n",
      "\n",
      "\n",
      "\n",
      "\n",
      "\n",
      "\n",
      "\n",
      "\n",
      "\n",
      "\n",
      "\n",
      "\n",
      "\n",
      "\n",
      "\n",
      "\n",
      "\n",
      "Прејди на содржината\n",
      "\n",
      "\n",
      "\n",
      "\n",
      "\n",
      "\n",
      "\n",
      "Главно мени\n",
      "\n",
      "\n",
      "\n",
      "\n",
      "\n",
      "Главно мени\n",
      "премести во страничникот\n",
      "скриј\n",
      "\n",
      "\n",
      "\n",
      "\t\tПрегледник\n",
      "\t\n",
      "\n",
      "\n",
      "Главна страницаШто е Википедија?Избрана содржинаСлучајна страницаПортал\n",
      "\n",
      "\n",
      "\n",
      "\n",
      "\n",
      "\t\tтехнички\n",
      "\t\n",
      "\n",
      "\n",
      "Тековни настаниСкорешни промениСелска чешмаВикисредбиПомош\n",
      "\n",
      "\n",
      "\n",
      "\n",
      "\n",
      "\n",
      "\n",
      "\n",
      "\n",
      "\n",
      "\n",
      "\n",
      "\n",
      "\n",
      "\n",
      "\n",
      "\n",
      "\n",
      "\n",
      "Пребарај\n",
      "\n",
      "\n",
      "\n",
      "\n",
      "\n",
      "\n",
      "\n",
      "\n",
      "\n",
      "\n",
      "\n",
      "Пребарај\n",
      "\n",
      "\n",
      "\n",
      "\n",
      "\n",
      "\n",
      "\n",
      "\n",
      "\n",
      "\n",
      "\n",
      "\n",
      "\n",
      "\n",
      "\n",
      "\n",
      "\n",
      "\n",
      "\n",
      "\n",
      "\n",
      "\n",
      "Изглед\n",
      "\n",
      "\n",
      "\n",
      "\n",
      "\n",
      "\n",
      "\n",
      "\n",
      "\n",
      "\n",
      "\n",
      "\n",
      "\n",
      "\n",
      "\n",
      "\n",
      "Дарување\n",
      "\n",
      "Направи сметка\n",
      "\n",
      "Најава\n",
      "\n",
      "\n",
      "\n",
      "\n",
      "\n",
      "\n",
      "\n",
      "\n",
      "Лични алатки\n",
      "\n",
      "\n",
      "\n",
      "\n",
      "\n",
      "Дарување При\n"
     ]
    }
   ],
   "source": [
    "print(documents[0].page_content[:500])"
   ]
  },
  {
   "cell_type": "code",
   "execution_count": null,
   "id": "98071839-c78e-4191-888d-5daf95fd5940",
   "metadata": {},
   "outputs": [],
   "source": []
  }
 ],
 "metadata": {
  "kernelspec": {
   "display_name": "Python 3 (ipykernel)",
   "language": "python",
   "name": "python3"
  },
  "language_info": {
   "codemirror_mode": {
    "name": "ipython",
    "version": 3
   },
   "file_extension": ".py",
   "mimetype": "text/x-python",
   "name": "python",
   "nbconvert_exporter": "python",
   "pygments_lexer": "ipython3",
   "version": "3.10.16"
  }
 },
 "nbformat": 4,
 "nbformat_minor": 5
}
