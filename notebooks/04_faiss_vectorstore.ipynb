{
 "cells": [
  {
   "cell_type": "markdown",
   "id": "55872336-a379-4054-9a5d-e64ac4832318",
   "metadata": {},
   "source": [
    "## Download and load data"
   ]
  },
  {
   "cell_type": "code",
   "execution_count": 1,
   "id": "8d4cc9c2-89d2-4916-b692-d538d18f888f",
   "metadata": {},
   "outputs": [],
   "source": [
    "# !pip install GitPython -qU"
   ]
  },
  {
   "cell_type": "code",
   "execution_count": 2,
   "id": "ce48b1d2-cbf7-4953-993e-bcb0e2ffe236",
   "metadata": {},
   "outputs": [
    {
     "data": {
      "text/plain": [
       "'\\nfrom git import Repo\\n\\nrepo = Repo.clone_from(\"https://github.com/langchain-ai/langserve\", \"./langserve_repo\")\\nbranch = repo.head.reference\\n'"
      ]
     },
     "execution_count": 2,
     "metadata": {},
     "output_type": "execute_result"
    }
   ],
   "source": [
    "\"\"\"\n",
    "from git import Repo\n",
    "\n",
    "repo = Repo.clone_from(\"https://github.com/langchain-ai/langserve\", \"./langserve_repo\")\n",
    "branch = repo.head.reference\n",
    "\"\"\""
   ]
  },
  {
   "cell_type": "code",
   "execution_count": 3,
   "id": "acaaace5-0cbf-4055-99b6-2f7685efc7a7",
   "metadata": {},
   "outputs": [],
   "source": [
    "# repo"
   ]
  },
  {
   "cell_type": "code",
   "execution_count": 4,
   "id": "7b177cd0-0cbf-4d90-a538-e6d5be773528",
   "metadata": {},
   "outputs": [],
   "source": [
    "# from langchain.document_loaders import GitLoader \n",
    "from langchain.document_loaders import PyPDFLoader"
   ]
  },
  {
   "cell_type": "code",
   "execution_count": 5,
   "id": "38055413-db0a-4453-921b-371590c8f19f",
   "metadata": {},
   "outputs": [],
   "source": [
    "# loader = GitLoader(repo_path=\"./langserve_repo/\", branch=branch)\n",
    "\n",
    "loaders = [\n",
    "    PyPDFLoader(\"../data/Glasnik-638.pdf\"),\n",
    "    PyPDFLoader(\"../data/Glasnik-689.pdf\"),\n",
    "    PyPDFLoader(\"../data/masteri-upatstvo.pdf\"),\n",
    "    PyPDFLoader(\"../data/pravila-za-seminarska-rabota_ekts.pdf\")\n",
    "]\n",
    "\n",
    "docs = []\n",
    "for loader in loaders:\n",
    "    docs.extend(loader.load())"
   ]
  },
  {
   "cell_type": "code",
   "execution_count": 6,
   "id": "2c5f8ba2-cb3f-4d2a-8e7c-a9b31dcdac4f",
   "metadata": {},
   "outputs": [],
   "source": [
    "#langserve_data = loader.load()"
   ]
  },
  {
   "cell_type": "code",
   "execution_count": 7,
   "id": "de4813a9-ccb5-420a-a259-3540c423f3d5",
   "metadata": {},
   "outputs": [],
   "source": [
    "#len(langserve_data)"
   ]
  },
  {
   "cell_type": "markdown",
   "id": "282b95ed-0673-48e5-915b-7e254c3af019",
   "metadata": {},
   "source": [
    "## Split data"
   ]
  },
  {
   "cell_type": "code",
   "execution_count": 8,
   "id": "b0f29178-e8fd-4e52-9cc9-ddd886b3a219",
   "metadata": {},
   "outputs": [],
   "source": [
    "from langchain.text_splitter import RecursiveCharacterTextSplitter\n",
    "\n",
    "#splitter = RecursiveCharacterTextSplitter(\n",
    "#    chunk_size=512,\n",
    "#    chunk_overlap=100,\n",
    "#)\n",
    "\n",
    "text_splitter = RecursiveCharacterTextSplitter(\n",
    "    chunk_size=1500,\n",
    "    chunk_overlap=150\n",
    ")\n",
    "\n",
    "#langserve_data = splitter.split_documents(langserve_data)\n",
    "splits = text_splitter.split_documents(docs)"
   ]
  },
  {
   "cell_type": "code",
   "execution_count": 9,
   "id": "161271db-32d2-4917-899b-3e7799917087",
   "metadata": {},
   "outputs": [],
   "source": [
    "#len(langserve_data)"
   ]
  },
  {
   "cell_type": "code",
   "execution_count": 10,
   "id": "aba6eb0b-3068-4f17-9741-86e51a704802",
   "metadata": {},
   "outputs": [
    {
     "data": {
      "text/plain": [
       "90"
      ]
     },
     "execution_count": 10,
     "metadata": {},
     "output_type": "execute_result"
    }
   ],
   "source": [
    "len(splits)"
   ]
  },
  {
   "cell_type": "code",
   "execution_count": 19,
   "id": "a4f3377f-4b17-47f3-8f57-8a395af1734a",
   "metadata": {},
   "outputs": [],
   "source": [
    "# hf_embedding_url = \"https://l28vfh3hv125bzuu.us-east-1.aws.endpoints.huggingface.cloud\""
   ]
  },
  {
   "cell_type": "markdown",
   "id": "093043f0-4bf2-439b-a581-30a386e690b7",
   "metadata": {},
   "source": [
    "## Get embeddings"
   ]
  },
  {
   "cell_type": "code",
   "execution_count": 11,
   "id": "56a6f781-efee-4f33-bfd1-2bd9ffb007e2",
   "metadata": {},
   "outputs": [
    {
     "name": "stdin",
     "output_type": "stream",
     "text": [
      "Enter your Cohere API key:  ········\n"
     ]
    }
   ],
   "source": [
    "#import getpass\n",
    "#import os\n",
    "\n",
    "#hf_token = getpass.getpass(\"Enter your Hugging Face API token: \")\n",
    "\n",
    "# Hugging face is not free so for testing we try out Cohere\n",
    "\n",
    "import getpass\n",
    "import os\n",
    "\n",
    "if not os.getenv(\"COHERE_API_KEY\"):\n",
    "    os.environ[\"COHERE_API_KEY\"] = getpass.getpass(\"Enter your Cohere API key: \")"
   ]
  },
  {
   "cell_type": "code",
   "execution_count": 12,
   "id": "f87a88c7-1c5a-4cc3-964f-9824360fc225",
   "metadata": {},
   "outputs": [],
   "source": [
    "#from langchain.embeddings import HuggingFaceInferenceAPIEmbeddings\n",
    "\n",
    "#embeddings_model = HuggingFaceInferenceAPIEmbeddings(\n",
    "#    api_key=hf_token, api_url=hf_embedding_url\n",
    "#)\n",
    "\n",
    "from langchain_cohere import CohereEmbeddings\n",
    "\n",
    "embeddings = CohereEmbeddings(\n",
    "    model=\"embed-english-v3.0\",\n",
    ")"
   ]
  },
  {
   "cell_type": "code",
   "execution_count": 13,
   "id": "f55505b3-313d-41c6-a25c-5fa81a7dc105",
   "metadata": {},
   "outputs": [],
   "source": [
    "# Test example\n",
    "sentence1 = \"i like dogs\"\n",
    "sentence2 = \"i like canines\"\n",
    "sentence3 = \"the weather is ugly outside\"\n",
    "\n",
    "embedding1 = embeddings.embed_query(sentence1)\n",
    "embedding2 = embeddings.embed_query(sentence2)\n",
    "embedding3 = embeddings.embed_query(sentence3)"
   ]
  },
  {
   "cell_type": "code",
   "execution_count": 14,
   "id": "364c43a8-9bf1-4f2c-b4d5-f47465bcba7f",
   "metadata": {},
   "outputs": [],
   "source": [
    "import numpy as np # to compare embeddings"
   ]
  },
  {
   "cell_type": "code",
   "execution_count": 15,
   "id": "c6c3dc52-a687-4646-bae8-37aa0ad85db1",
   "metadata": {},
   "outputs": [
    {
     "data": {
      "text/plain": [
       "0.8963837577327499"
      ]
     },
     "execution_count": 15,
     "metadata": {},
     "output_type": "execute_result"
    }
   ],
   "source": [
    "np.dot(embedding1, embedding2)"
   ]
  },
  {
   "cell_type": "code",
   "execution_count": 16,
   "id": "b94d6db5-7fb4-4c3e-820b-424f58dabb02",
   "metadata": {},
   "outputs": [
    {
     "data": {
      "text/plain": [
       "0.18742213262546123"
      ]
     },
     "execution_count": 16,
     "metadata": {},
     "output_type": "execute_result"
    }
   ],
   "source": [
    "np.dot(embedding1, embedding3)"
   ]
  },
  {
   "cell_type": "code",
   "execution_count": 17,
   "id": "57f0cc6d-6cac-4be0-8a4c-fe2cfaca7b7f",
   "metadata": {},
   "outputs": [
    {
     "data": {
      "text/plain": [
       "0.1376780688827518"
      ]
     },
     "execution_count": 17,
     "metadata": {},
     "output_type": "execute_result"
    }
   ],
   "source": [
    "np.dot(embedding2, embedding3)"
   ]
  },
  {
   "cell_type": "code",
   "execution_count": 18,
   "id": "86710e28-8ffd-4b54-a888-f9ad7525925c",
   "metadata": {},
   "outputs": [
    {
     "data": {
      "text/plain": [
       "'\\nembeddings = []\\n\\nfor i in range(0, len(langserve_data) - 1, 32):\\n    response = embeddings_model.embed_documents(\\n            [document.page_content for document in langserve_data[i : i + 32]]\\n        )\\n    embeddings.append(\\n        response\\n    )\\n'"
      ]
     },
     "execution_count": 18,
     "metadata": {},
     "output_type": "execute_result"
    }
   ],
   "source": [
    "\"\"\"\n",
    "embeddings = []\n",
    "\n",
    "for i in range(0, len(langserve_data) - 1, 32):\n",
    "    response = embeddings_model.embed_documents(\n",
    "            [document.page_content for document in langserve_data[i : i + 32]]\n",
    "        )\n",
    "    embeddings.append(\n",
    "        response\n",
    "    )\n",
    "\"\"\"\n",
    "\n",
    "#len(embeddings)"
   ]
  },
  {
   "cell_type": "code",
   "execution_count": 20,
   "id": "6e5f9c5b-7a2f-4ed7-aecd-289cbaf59ed3",
   "metadata": {},
   "outputs": [],
   "source": [
    "#embeddings = [item for sub_list in embeddings for item in sub_list]"
   ]
  },
  {
   "cell_type": "code",
   "execution_count": 21,
   "id": "78e7cf3a-672b-4565-9f75-cbd7e593b853",
   "metadata": {},
   "outputs": [],
   "source": [
    "#len(embeddings)"
   ]
  },
  {
   "cell_type": "code",
   "execution_count": 22,
   "id": "81d6b28f-fbb3-4c0f-932a-b0d9a08597c0",
   "metadata": {},
   "outputs": [],
   "source": [
    "#!pip install -qU faiss-cpu # we do this once"
   ]
  },
  {
   "cell_type": "code",
   "execution_count": 29,
   "id": "40742d05-2ba4-4926-8bf8-761e9b6e0f58",
   "metadata": {},
   "outputs": [
    {
     "data": {
      "text/plain": [
       "90"
      ]
     },
     "execution_count": 29,
     "metadata": {},
     "output_type": "execute_result"
    }
   ],
   "source": [
    "len(splits)"
   ]
  },
  {
   "cell_type": "code",
   "execution_count": 28,
   "id": "5ba1441a-2179-4c53-95ad-6a5ad6613bb3",
   "metadata": {},
   "outputs": [
    {
     "data": {
      "text/plain": [
       "'Univerzitetski glasnik  Br.  638, 30 декември 2022  \\n \\n1 \\n   \\n \\n \\n \\n \\n \\n \\n \\n \\n \\n \\n \\n \\n \\n \\n  \\nUniverzitetski glasnik  \\n \\n \\nИздавач  \\nУниверзитет  „Св. Кирил  и \\nМетодиј“  - Скопје  \\n \\n \\n \\n \\n \\n \\n \\n \\n \\nУредник  \\nна издавачката  дејност  на \\nУКИМ  \\nпроф . д-р Никола  Јанкуловски , \\nректор  \\n \\n \\nУредник  \\nна Универзитетски  гласник  \\nм-р Марија  Маневска , \\nгенерален  секретар  \\n \\nЛектор  \\nВесна Илиевска Цветановска  \\n \\nТехничко  уредување  \\nЗоран  Кордоски  \\nм-р Елизабета Додевска  \\n  \\n \\n \\n \\n \\n \\n \\n \\n \\n \\n \\n \\n \\n \\n \\n \\n \\n \\n \\n \\n \\nО Д Л У КА  \\nЗА ПРАВИЛА НА СТУДИРАЊЕ  \\nна втор циклус студии (постдипломски  \\nстудии)  на Универзитетот „Св. Кирил и \\nМетодиј“ во Скопје , Економски и нститут  – \\nСкопје'"
      ]
     },
     "execution_count": 28,
     "metadata": {},
     "output_type": "execute_result"
    }
   ],
   "source": [
    "# test if properly split\n",
    "splits[0].page_content"
   ]
  },
  {
   "cell_type": "code",
   "execution_count": 30,
   "id": "ae895efc-4d73-498f-9d7e-67907aafe252",
   "metadata": {},
   "outputs": [],
   "source": [
    "from langchain.vectorstores import FAISS\n",
    "\n",
    "langserve_text_data = [document.page_content for document in splits]"
   ]
  },
  {
   "cell_type": "code",
   "execution_count": 31,
   "id": "b9f1ac13-87d5-40b6-8914-c91f45ff4fec",
   "metadata": {},
   "outputs": [],
   "source": [
    "emb = embeddings.embed_documents(langserve_text_data)"
   ]
  },
  {
   "cell_type": "code",
   "execution_count": 34,
   "id": "2bf48f09-7b84-43c2-94cd-55cc0b5c3e68",
   "metadata": {},
   "outputs": [
    {
     "data": {
      "text/plain": [
       "90"
      ]
     },
     "execution_count": 34,
     "metadata": {},
     "output_type": "execute_result"
    }
   ],
   "source": [
    "len(emb) # corresponds to the number of split documents"
   ]
  },
  {
   "cell_type": "code",
   "execution_count": 37,
   "id": "ce66f01c-a3a4-4cdb-9c5b-37eb3e9105f3",
   "metadata": {},
   "outputs": [],
   "source": [
    "# ova e od tutorijalot\n",
    "\n",
    "document_embedding_pairs = list(zip(langserve_text_data, emb))\n",
    "\n",
    "vectorstore = FAISS.from_embeddings(\n",
    "    document_embedding_pairs,\n",
    "    embedding=embeddings,\n",
    ")"
   ]
  },
  {
   "cell_type": "code",
   "execution_count": 38,
   "id": "408876af-d381-4bae-8764-80aa2a9260d9",
   "metadata": {},
   "outputs": [
    {
     "data": {
      "text/plain": [
       "<langchain_community.vectorstores.faiss.FAISS at 0x1f4335ce590>"
      ]
     },
     "execution_count": 38,
     "metadata": {},
     "output_type": "execute_result"
    }
   ],
   "source": [
    "vectorstore"
   ]
  },
  {
   "cell_type": "code",
   "execution_count": 40,
   "id": "56ef4df0-5a86-4ede-8537-eaccbc246826",
   "metadata": {},
   "outputs": [],
   "source": [
    "vectorstore.save_local(\"../langserve_index\")"
   ]
  },
  {
   "cell_type": "code",
   "execution_count": null,
   "id": "fe5d734f-0b29-4e88-b7a2-ac29e564cd87",
   "metadata": {},
   "outputs": [],
   "source": []
  }
 ],
 "metadata": {
  "kernelspec": {
   "display_name": "Python 3 (ipykernel)",
   "language": "python",
   "name": "python3"
  },
  "language_info": {
   "codemirror_mode": {
    "name": "ipython",
    "version": 3
   },
   "file_extension": ".py",
   "mimetype": "text/x-python",
   "name": "python",
   "nbconvert_exporter": "python",
   "pygments_lexer": "ipython3",
   "version": "3.10.16"
  }
 },
 "nbformat": 4,
 "nbformat_minor": 5
}
