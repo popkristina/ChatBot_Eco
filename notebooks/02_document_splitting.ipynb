{
 "cells": [
  {
   "cell_type": "markdown",
   "id": "6b5825f6-b5e2-4b4f-9b8a-c793cf6faadd",
   "metadata": {},
   "source": [
    "## Experiment with text splitters"
   ]
  },
  {
   "cell_type": "code",
   "execution_count": 1,
   "id": "d235028c-89ea-4779-a18b-a14d937f4e7e",
   "metadata": {},
   "outputs": [],
   "source": [
    "from dotenv import load_dotenv, find_dotenv"
   ]
  },
  {
   "cell_type": "code",
   "execution_count": 2,
   "id": "b6ebb4b3-c199-4cfc-b5de-4ee311a1bd5b",
   "metadata": {},
   "outputs": [],
   "source": [
    "_ = load_dotenv(find_dotenv())"
   ]
  },
  {
   "cell_type": "markdown",
   "id": "3b54ff30-50de-4fa6-a011-6baa5d3e6f18",
   "metadata": {},
   "source": [
    "### Character Splitters"
   ]
  },
  {
   "cell_type": "code",
   "execution_count": 3,
   "id": "b52e1181-66ef-46f3-b396-119fa75fa810",
   "metadata": {},
   "outputs": [],
   "source": [
    "from langchain.text_splitter import RecursiveCharacterTextSplitter, CharacterTextSplitter"
   ]
  },
  {
   "cell_type": "markdown",
   "id": "89ea1796-cba7-44fd-98f8-3dc794b4dcbc",
   "metadata": {},
   "source": [
    "#### Playground"
   ]
  },
  {
   "cell_type": "code",
   "execution_count": 4,
   "id": "f467260a-c166-4b5e-a033-86c39a4b131f",
   "metadata": {},
   "outputs": [],
   "source": [
    "chunk_size = 26\n",
    "chunk_overlap = 4"
   ]
  },
  {
   "cell_type": "code",
   "execution_count": 5,
   "id": "b26b02a7-2a54-4073-94c1-4ef222d07e21",
   "metadata": {},
   "outputs": [],
   "source": [
    "r_splitter = RecursiveCharacterTextSplitter(chunk_size = chunk_size, chunk_overlap = chunk_overlap)"
   ]
  },
  {
   "cell_type": "code",
   "execution_count": 6,
   "id": "f47c8347-077c-4817-b4ee-ec8ef3172593",
   "metadata": {},
   "outputs": [],
   "source": [
    "c_splitter = CharacterTextSplitter(chunk_size = chunk_size, chunk_overlap = chunk_overlap)"
   ]
  },
  {
   "cell_type": "code",
   "execution_count": 7,
   "id": "c99d7d69-a82c-425a-a2af-f7304144f624",
   "metadata": {},
   "outputs": [],
   "source": [
    "text1 = \"abcdefghijklmnopqrstuvwxyz\""
   ]
  },
  {
   "cell_type": "code",
   "execution_count": 8,
   "id": "6c796bcd-0343-4b64-8f76-f3faad2672f8",
   "metadata": {},
   "outputs": [
    {
     "data": {
      "text/plain": [
       "['abcdefghijklmnopqrstuvwxyz']"
      ]
     },
     "execution_count": 8,
     "metadata": {},
     "output_type": "execute_result"
    }
   ],
   "source": [
    "r_splitter.split_text(text1) # it's 26 chars long and we specified chunk size of 26"
   ]
  },
  {
   "cell_type": "code",
   "execution_count": 9,
   "id": "ff8ad6ab-d6db-4863-9b54-7d9a0a78eb83",
   "metadata": {},
   "outputs": [],
   "source": [
    "text2 = \"abcdefghijklmnopqrstuvwxyzabcdefg\""
   ]
  },
  {
   "cell_type": "code",
   "execution_count": 10,
   "id": "f1c27abd-c7d1-4eb6-920a-f1626326fe53",
   "metadata": {},
   "outputs": [
    {
     "data": {
      "text/plain": [
       "['abcdefghijklmnopqrstuvwxyz', 'wxyzabcdefg']"
      ]
     },
     "execution_count": 10,
     "metadata": {},
     "output_type": "execute_result"
    }
   ],
   "source": [
    "r_splitter.split_text(text2) # first one ends at 26, second one starts with wxyz - the 4 chunk overlap"
   ]
  },
  {
   "cell_type": "code",
   "execution_count": 11,
   "id": "8de0bf08-272c-4921-9e61-ded8337fb706",
   "metadata": {},
   "outputs": [],
   "source": [
    "text3 = \"a b c d e f g h i j k l m n o p q r s t u v w x y z\""
   ]
  },
  {
   "cell_type": "code",
   "execution_count": 12,
   "id": "4a2ce6bb-7fb3-4664-85ec-10a953601e79",
   "metadata": {},
   "outputs": [
    {
     "data": {
      "text/plain": [
       "['a b c d e f g h i j k l m', 'l m n o p q r s t u v w x', 'w x y z']"
      ]
     },
     "execution_count": 12,
     "metadata": {},
     "output_type": "execute_result"
    }
   ],
   "source": [
    "r_splitter.split_text(text3) # space counted as characters so the overlap is for 'l', ' ', 'm', ' '"
   ]
  },
  {
   "cell_type": "code",
   "execution_count": 13,
   "id": "f2ca2f8d-3e52-4bc9-ab66-6c3713f9302a",
   "metadata": {},
   "outputs": [
    {
     "data": {
      "text/plain": [
       "['a b c d e f g h i j k l m n o p q r s t u v w x y z']"
      ]
     },
     "execution_count": 13,
     "metadata": {},
     "output_type": "execute_result"
    }
   ],
   "source": [
    "c_splitter.split_text(text3) # splits by character and the default is a new line character"
   ]
  },
  {
   "cell_type": "code",
   "execution_count": 14,
   "id": "e805d391-1ed4-41a3-9063-df5bf8fcc800",
   "metadata": {},
   "outputs": [],
   "source": [
    "c_splitter = CharacterTextSplitter(chunk_size = chunk_size, chunk_overlap = chunk_overlap, separator = ' ')"
   ]
  },
  {
   "cell_type": "code",
   "execution_count": 15,
   "id": "97bf1f2d-b829-40ce-8925-d4cf344cdbc4",
   "metadata": {},
   "outputs": [
    {
     "data": {
      "text/plain": [
       "['a b c d e f g h i j k l m', 'l m n o p q r s t u v w x', 'w x y z']"
      ]
     },
     "execution_count": 15,
     "metadata": {},
     "output_type": "execute_result"
    }
   ],
   "source": [
    "c_splitter.split_text(text3)"
   ]
  },
  {
   "cell_type": "markdown",
   "id": "cd8a6d87-65a0-4b06-8236-e59a2ea8dd71",
   "metadata": {},
   "source": [
    "#### Real document"
   ]
  },
  {
   "cell_type": "code",
   "execution_count": 16,
   "id": "be9c1dcd-4c2a-4288-a46f-72ddd2f3d58b",
   "metadata": {},
   "outputs": [],
   "source": [
    "from langchain.document_loaders import PyPDFLoader"
   ]
  },
  {
   "cell_type": "code",
   "execution_count": 17,
   "id": "ebf4b1d8-c27d-4850-b2c5-76e75bbcfe7f",
   "metadata": {},
   "outputs": [],
   "source": [
    "loader = PyPDFLoader(\"../data/Glasnik-638.pdf\")"
   ]
  },
  {
   "cell_type": "code",
   "execution_count": 18,
   "id": "d41af9a6-417b-4ea8-b6ae-7ea1ed775d55",
   "metadata": {},
   "outputs": [],
   "source": [
    "pages = loader.load()"
   ]
  },
  {
   "cell_type": "code",
   "execution_count": 19,
   "id": "fa2948d5-ff40-4969-829d-8104579bc8e2",
   "metadata": {},
   "outputs": [],
   "source": [
    "text_splitter = CharacterTextSplitter(\n",
    "    separator = \"\\n\",\n",
    "    chunk_size = 1000,\n",
    "    chunk_overlap = 150,\n",
    "    length_function = len\n",
    ")"
   ]
  },
  {
   "cell_type": "code",
   "execution_count": 20,
   "id": "7fb8b789-5704-4570-a90d-a6924b994e10",
   "metadata": {},
   "outputs": [],
   "source": [
    "docs = text_splitter.split_documents(pages)"
   ]
  },
  {
   "cell_type": "code",
   "execution_count": 21,
   "id": "c3d707d0-663d-403d-9dc8-ca9037386353",
   "metadata": {},
   "outputs": [
    {
     "data": {
      "text/plain": [
       "15"
      ]
     },
     "execution_count": 21,
     "metadata": {},
     "output_type": "execute_result"
    }
   ],
   "source": [
    "len(pages)"
   ]
  },
  {
   "cell_type": "code",
   "execution_count": 22,
   "id": "8f068fcc-9030-4f42-ad13-ce8a04d0a65e",
   "metadata": {},
   "outputs": [
    {
     "data": {
      "text/plain": [
       "69"
      ]
     },
     "execution_count": 22,
     "metadata": {},
     "output_type": "execute_result"
    }
   ],
   "source": [
    "len(docs)"
   ]
  },
  {
   "cell_type": "markdown",
   "id": "ac8a4043-54c0-488a-9b42-82b5060438bc",
   "metadata": {},
   "source": [
    "### Token splitters"
   ]
  },
  {
   "cell_type": "code",
   "execution_count": 23,
   "id": "86c5ed61-2dbf-4b52-819a-edacd7cfa0f1",
   "metadata": {},
   "outputs": [],
   "source": [
    "from langchain.text_splitter import TokenTextSplitter"
   ]
  },
  {
   "cell_type": "code",
   "execution_count": 25,
   "id": "eb7b8d2e-aa6f-4149-88e5-b320c127182a",
   "metadata": {},
   "outputs": [],
   "source": [
    "text_splitter = TokenTextSplitter(chunk_size=1, chunk_overlap=0)"
   ]
  },
  {
   "cell_type": "code",
   "execution_count": null,
   "id": "eb3afa94-e310-418b-8344-0572adc06363",
   "metadata": {},
   "outputs": [],
   "source": []
  }
 ],
 "metadata": {
  "kernelspec": {
   "display_name": "Python 3 (ipykernel)",
   "language": "python",
   "name": "python3"
  },
  "language_info": {
   "codemirror_mode": {
    "name": "ipython",
    "version": 3
   },
   "file_extension": ".py",
   "mimetype": "text/x-python",
   "name": "python",
   "nbconvert_exporter": "python",
   "pygments_lexer": "ipython3",
   "version": "3.10.16"
  }
 },
 "nbformat": 4,
 "nbformat_minor": 5
}
